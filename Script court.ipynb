{
 "cells": [
  {
   "cell_type": "markdown",
   "metadata": {},
   "source": [
    "## Imports"
   ]
  },
  {
   "cell_type": "code",
   "execution_count": 1,
   "metadata": {
    "collapsed": true
   },
   "outputs": [],
   "source": [
    "import pandas as pd\n",
    "import numpy as np\n",
    "import matplotlib.pyplot as plt\n",
    "import cmath\n",
    "import math\n",
    "from scipy import signal\n",
    "plt.style.use('seaborn-colorblind')\n",
    "from sklearn.neural_network import MLPClassifier\n",
    "from sklearn.ensemble import BaggingClassifier\n",
    "from sklearn.svm import SVC\n",
    "from sklearn.neighbors import KNeighborsClassifier\n",
    "from sklearn.ensemble import RandomForestClassifier\n",
    "from sklearn.svm import SVC\n",
    "from sklearn.linear_model import LogisticRegression\n",
    "from sklearn import preprocessing\n",
    "from sklearn.decomposition import PCA\n",
    "from numpy.random import normal\n",
    "from sklearn.mixture import GaussianMixture\n",
    "import warnings\n",
    "warnings.filterwarnings(\"ignore\")"
   ]
  },
  {
   "cell_type": "markdown",
   "metadata": {},
   "source": [
    "## Création des données pour la classification"
   ]
  },
  {
   "cell_type": "markdown",
   "metadata": {},
   "source": [
    "Ci dessous les leviers sur lesquels jouer pour réaliser une classification. On entre le nom du jeu de données de train, de test. on choisit la taille n du filtre pour smooth les enregistrements, la longueur de la fenêtre sur laquelle on construit nos features pour les données de train et de test. liste_labels contient dans l'ordre les labels des classes par lesquelles on passe dans l'enregistrement de test, par exemple [0, 1, 0] si je suis assis puis je marche puis je suis assis. Dans liste_transition, on note les numeros des points de l'enregistrement où l'on switch d'une activité à l'autre, par exemple, si j'ai enregistré 22000 points et que j'ai changé d'activité au 8000ème point puis au 14000ème point, je prend [8000, 14000].\n",
    "\n",
    "\n",
    "Il reste ensuite à choisir des features qui expliquent bien les données, pour l'instant on utilise seulement la variance sur une fenêtre et l'écart max à la valeur médiane sur la fenêtre pour l'accélération sur l'axe vertical et pour l'accélération dans le plan horizontal (norme des deux coordonnées dans ce plan). Cela fait quatre variables explicatives. "
   ]
  },
  {
   "cell_type": "code",
   "execution_count": 9,
   "metadata": {
    "collapsed": true
   },
   "outputs": [],
   "source": [
    "def create_train(train_name, window_length, recouvrement, n, liste_labels, liste_transitions):\n",
    "    def cree_labels(features, liste_transitions, liste_labels):\n",
    "        #il faut bien avoir assez de label sinon on renvoie une erreur\n",
    "        #liste_transitions.append(len(features))\n",
    "        labels = np.zeros(len(features))\n",
    "        past_index = 0\n",
    "        current_index = 0\n",
    "        for k in range(len(liste_transitions)):\n",
    "            current_index = liste_transitions[k]\n",
    "            labels[past_index : current_index] = liste_labels[k]\n",
    "            past_index = current_index\n",
    "        labels[liste_transitions[-1] : len(features)] = liste_labels[len(liste_transitions)]\n",
    "        return labels\n",
    "    data = pd.read_csv(train_name, engine = 'python')\n",
    "    data = data.dropna()\n",
    "    filtre = np.ones(n)\n",
    "    # Il faudra trouver un filtre correct\n",
    "    filtre = np.array(filtre).reshape(len(filtre), 1)/len(filtre)\n",
    "    filteredX = signal.convolve(data.get(['x']), filtre)\n",
    "    filteredY = signal.convolve(data.get(['y']), filtre)\n",
    "    filteredZ = signal.convolve(data.get(['z']), filtre)\n",
    "    fdata = pd.DataFrame()\n",
    "    fdata['X'] = filteredX[n : - n, 0]\n",
    "    fdata['Y'] = filteredY[n : - n, 0]\n",
    "    fdata['Z'] = filteredZ[n : - n, 0]\n",
    "    #fdata.plot()\n",
    "    arrX = np.array(data.get(['x']))\n",
    "    arrY = np.array(data.get(['y']))\n",
    "    arrZ = np.array(data.get(['z']))\n",
    "    liste_windows = []\n",
    "    liste_theta_z = []\n",
    "    liste_theta_y = []\n",
    "    \n",
    "    labels = cree_labels(fdata, liste_transitions, liste_labels).astype(int)\n",
    "    labels_idee = []\n",
    "    bound = 0\n",
    "    while int(bound + (1 - recouvrement) * window_length) < arrX.shape[0]:\n",
    "        bound = int(bound + (1 - recouvrement) * window_length)\n",
    "        labels_idee.append(np.argmax(np.bincount(np.array(labels[bound : bound + window_length]))))\n",
    "\n",
    "        # Recherche de l'accélération de la gravité sur la première seconde\n",
    "        xg = arrX[bound : bound + window_length].mean()\n",
    "        yg = arrY[bound : bound + window_length].mean()\n",
    "        zg = arrZ[bound : bound + window_length].mean()\n",
    "        G = [xg, yg, zg]\n",
    "        G_objectif = [0, 0, - 9.8]\n",
    "        # Il faut faire deux rotations\n",
    "        # rotation autour de l'axe des ordonnées\n",
    "        #On cherche l'argument dans xoy du projeté de G\n",
    "        theta_z = cmath.phase(complex(G[0], G[1]))\n",
    "        \n",
    "        liste_theta_z.append(theta_z)\n",
    "\n",
    "        rot_mat_z = [[math.cos(theta_z), - math.sin(theta_z), 0], [math.sin(theta_z), math.cos(theta_z), 0], [0, 0, 1]]\n",
    "        G_rot = np.dot(G, rot_mat_z)\n",
    "        # rotation autour de l'axe des abscisses\n",
    "\n",
    "        theta_y = cmath.phase(complex(G_rot[0], G_rot[2]))\n",
    "        \n",
    "        liste_theta_y.append(theta_y)\n",
    "\n",
    "        rot_mat_y = [[math.sin(theta_y), 0, - math.cos(theta_y)], [0, 1, 0], [- math.cos(theta_y), 0, - math.sin(theta_y)]]\n",
    "        G_rot = np.dot(G_rot, rot_mat_y)\n",
    "\n",
    "        # Rotation complète\n",
    "        rot_mat = np.dot(rot_mat_z, rot_mat_y)\n",
    "        total = np.array([filteredX[bound : bound + window_length], filteredY[bound : bound + window_length], filteredZ[bound : bound + window_length]])\n",
    "        total = total[:, :, 0]\n",
    "        total_rot = np.dot(np.transpose(total), rot_mat)\n",
    "        total_rot = np.transpose(total_rot)\n",
    "        total_rot = np.array([total_rot[0, :]**2 + total_rot[1, :]**2, total_rot[2, :]])\n",
    "        liste_windows.append(total_rot)\n",
    "        \n",
    "    train_features = [[], [], [], [], [], [], [], [], [], [], [], []]\n",
    "    for k in range(len(liste_windows)):\n",
    "        train_features[0].append(np.var(liste_windows[k][0, :]))\n",
    "        train_features[1].append(np.var(liste_windows[k][1, :]))\n",
    "        #test_features[2].append(np.max(np.abs(liste_windows[k][0, :]) - np.median(liste_windows[k][0, :])))\n",
    "        #test_features[3].append(np.max(np.abs(liste_windows[k][1, :]) - np.median(liste_windows[k][1, :])))\n",
    "        train_features[2].append(np.mean((liste_windows[k][0, :])))\n",
    "        train_features[3].append(np.mean((liste_windows[k][1, :])))\n",
    "        #test_features[6].append(np.sqrt(np.mean(np.square(liste_windows[k][0, :]))))\n",
    "        #test_features[7].append(np.sqrt(np.mean(np.square(liste_windows[k][1, :]))))\n",
    "        train_features[4].append(np.sum((liste_windows[k][0, :-1] * liste_windows[k][0, 1:]) < 0))\n",
    "        train_features[5].append(np.sum((liste_windows[k][1, :-1] * liste_windows[k][1, 1:]) < 0))\n",
    "        #test_features[10].append(np.trapz(liste_windows[k][0, :]))\n",
    "        #test_features[11].append(np.trapz(liste_windows[k][1, :]))\n",
    "        train_features[6].append(np.argmax(signal.periodogram(liste_windows[k][0, :])))\n",
    "        train_features[7].append(np.argmax(signal.periodogram(liste_windows[k][1, :])))\n",
    "        train_features[8].append(np.sum(np.abs(liste_windows[k][0, :])))\n",
    "        train_features[9].append(np.sum(np.abs(liste_windows[k][1, :])))\n",
    "    train_features[10] = liste_theta_z\n",
    "    train_features[11] = liste_theta_y\n",
    "\n",
    "    train_features = np.transpose(np.array(train_features))\n",
    "    train_features = train_features[ : -1, :]\n",
    "    labels_idee = labels_idee[ : -1]\n",
    "    return train_features, labels_idee"
   ]
  },
  {
   "cell_type": "code",
   "execution_count": 10,
   "metadata": {
    "collapsed": true
   },
   "outputs": [],
   "source": [
    "def create_test(test_name, window_length, recouvrement, n):\n",
    "    data = pd.read_csv(test_name, engine = 'python')\n",
    "    data = data.dropna()\n",
    "    filtre = np.ones(n)\n",
    "    # Il faudra trouver un filtre correct\n",
    "    filtre = np.array(filtre).reshape(len(filtre), 1)/len(filtre)\n",
    "    filteredX = signal.convolve(data.get(['x']), filtre)\n",
    "    filteredY = signal.convolve(data.get(['y']), filtre)\n",
    "    filteredZ = signal.convolve(data.get(['z']), filtre)\n",
    "    fdata = pd.DataFrame()\n",
    "    fdata['X'] = filteredX[n : - n, 0]\n",
    "    fdata['Y'] = filteredY[n : - n, 0]\n",
    "    fdata['Z'] = filteredZ[n : - n, 0]\n",
    "    #fdata.plot()\n",
    "    arrX = np.array(data.get(['x']))\n",
    "    arrY = np.array(data.get(['y']))\n",
    "    arrZ = np.array(data.get(['z']))\n",
    "    liste_windows = []\n",
    "    liste_theta_z = []\n",
    "    liste_theta_y = []\n",
    "    bound = 0\n",
    "    while int(bound + (1 - recouvrement) * window_length) < arrX.shape[0]:\n",
    "        bound = int(bound + (1 - recouvrement) * window_length)\n",
    "        # Recherche de l'accélération de la gravité sur la première seconde\n",
    "        xg = arrX[bound : bound + window_length].mean()\n",
    "        yg = arrY[bound : bound + window_length].mean()\n",
    "        zg = arrZ[bound : bound + window_length].mean()\n",
    "        G = [xg, yg, zg]\n",
    "        G_objectif = [0, 0, - 9.8]\n",
    "        # Il faut faire deux rotations\n",
    "        # rotation autour de l'axe des ordonnées\n",
    "        #On cherche l'argument dans xoy du projeté de G\n",
    "        theta_z = cmath.phase(complex(G[0], G[1]))\n",
    "\n",
    "        liste_theta_z.append(theta_z)\n",
    "\n",
    "        rot_mat_z = [[math.cos(theta_z), - math.sin(theta_z), 0], [math.sin(theta_z), math.cos(theta_z), 0], [0, 0, 1]]\n",
    "        G_rot = np.dot(G, rot_mat_z)\n",
    "        # rotation autour de l'axe des abscisses\n",
    "\n",
    "        theta_y = cmath.phase(complex(G_rot[0], G_rot[2]))\n",
    "\n",
    "        liste_theta_y.append(theta_y)\n",
    "\n",
    "        rot_mat_y = [[math.sin(theta_y), 0, - math.cos(theta_y)], [0, 1, 0], [- math.cos(theta_y), 0, - math.sin(theta_y)]]\n",
    "        G_rot = np.dot(G_rot, rot_mat_y)\n",
    "\n",
    "        # Rotation complète\n",
    "        rot_mat = np.dot(rot_mat_z, rot_mat_y)\n",
    "        total = np.array([filteredX[bound : bound + window_length], filteredY[bound : bound + window_length], filteredZ[bound : bound + window_length]])\n",
    "        total = total[:, :, 0]\n",
    "        total_rot = np.dot(np.transpose(total), rot_mat)\n",
    "        total_rot = np.transpose(total_rot)\n",
    "        total_rot = np.array([total_rot[0, :]**2 + total_rot[1, :]**2, total_rot[2, :]])\n",
    "        liste_windows.append(total_rot)\n",
    "        \n",
    "    test_features = [[], [], [], [], [], [], [], [], [], [], [], []]\n",
    "    for k in range(len(liste_windows)):\n",
    "        test_features[0].append(np.var(liste_windows[k][0, :]))\n",
    "        test_features[1].append(np.var(liste_windows[k][1, :]))\n",
    "        #test_features[2].append(np.max(np.abs(liste_windows[k][0, :]) - np.median(liste_windows[k][0, :])))\n",
    "        #test_features[3].append(np.max(np.abs(liste_windows[k][1, :]) - np.median(liste_windows[k][1, :])))\n",
    "        test_features[2].append(np.mean((liste_windows[k][0, :])))\n",
    "        test_features[3].append(np.mean((liste_windows[k][1, :])))\n",
    "        #test_features[6].append(np.sqrt(np.mean(np.square(liste_windows[k][0, :]))))\n",
    "        #test_features[7].append(np.sqrt(np.mean(np.square(liste_windows[k][1, :]))))\n",
    "        test_features[4].append(np.sum((liste_windows[k][0, :-1] * liste_windows[k][0, 1:]) < 0))\n",
    "        test_features[5].append(np.sum((liste_windows[k][1, :-1] * liste_windows[k][1, 1:]) < 0))\n",
    "        #test_features[10].append(np.trapz(liste_windows[k][0, :]))\n",
    "        #test_features[11].append(np.trapz(liste_windows[k][1, :]))\n",
    "        test_features[6].append(np.argmax(signal.periodogram(liste_windows[k][0, :])))\n",
    "        test_features[7].append(np.argmax(signal.periodogram(liste_windows[k][1, :])))\n",
    "        test_features[8].append(np.sum(np.abs(liste_windows[k][0, :])))\n",
    "        test_features[9].append(np.sum(np.abs(liste_windows[k][1, :])))\n",
    "    test_features[10] = liste_theta_z\n",
    "    test_features[11] = liste_theta_y\n",
    "    \n",
    "    test_features = np.transpose(np.array(test_features))\n",
    "    test_features = test_features[1 : -1, :]\n",
    "    return test_features"
   ]
  },
  {
   "cell_type": "markdown",
   "metadata": {},
   "source": [
    "## Classification"
   ]
  },
  {
   "cell_type": "code",
   "execution_count": 15,
   "metadata": {
    "collapsed": true
   },
   "outputs": [],
   "source": [
    "def build_model(train_features, labels_idee):\n",
    "    train, classes = pd.DataFrame(train_features), labels_idee\n",
    "    scaler = preprocessing.StandardScaler().fit(train) # ou StandardScaler\n",
    "    train_scaled = scaler.transform(train)\n",
    "    pca = PCA(svd_solver = 'randomized', n_components = 10)\n",
    "    train_scaled_pca = pca.fit_transform(train_scaled)\n",
    "    #clf = BaggingClassifier(MLPClassifier(solver = 'adam', alpha = 1, max_iter = 200, shuffle = True, hidden_layer_sizes = (100, 100, 100)), n_estimators = 20, max_samples = 0.5)\n",
    "    clf1 = KNeighborsClassifier(n_neighbors = 8)\n",
    "    clf1.fit(train_scaled_pca, classes)\n",
    "    #dict_weight = {0: 0.1, 1: 0.1, 2: 0.1,3: 0.1, 4: 0.6}\n",
    "    clf2 = RandomForestClassifier(n_estimators = 100, max_depth = 8) #class_weight = dict_weight)\n",
    "    clf2.fit(train_scaled_pca, classes)\n",
    "    clf3 = BaggingClassifier(MLPClassifier(solver = 'adam', alpha = 1, max_iter = 200, shuffle = True, hidden_layer_sizes = (100, 100, 100)), n_estimators = 10, max_samples = 0.5)\n",
    "    clf3.fit(train_scaled_pca, classes)\n",
    "    return clf1, clf2, clf3, pca, scaler\n",
    "    \n",
    "def actually_predict(classifier1, classifier2, classifier3, test_features, pca, scaler):\n",
    "#def actually_predict(classifier1, test_features, pca, scaler):\n",
    "    test = pd.DataFrame(test_features)\n",
    "    test_scaled = scaler.transform(test)\n",
    "    test_scaled_pca = pca.transform(test_scaled)\n",
    "    prediction1 = classifier1.predict(test_scaled_pca)\n",
    "    prediction2 = classifier2.predict(test_scaled_pca)\n",
    "    prediction3 = classifier3.predict(test_scaled_pca)\n",
    "    prediction = np.zeros(prediction1.shape)\n",
    "    for k in range(prediction1.shape[0]):\n",
    "        if prediction1[k] == prediction2[k]:\n",
    "            prediction[k] = prediction1[k]\n",
    "        else:\n",
    "            prediction[k] = prediction3[k]\n",
    "    return prediction"
   ]
  },
  {
   "cell_type": "markdown",
   "metadata": {},
   "source": [
    "## Code à exécuter "
   ]
  },
  {
   "cell_type": "code",
   "execution_count": 23,
   "metadata": {
    "collapsed": true
   },
   "outputs": [],
   "source": [
    "# Hyperparamètres\n",
    "window_length = 250\n",
    "recouvrement = 0.8\n",
    "n = 3\n",
    "train_name = 'new_tout.csv' #total1.csv\n",
    "liste_labels = [0, 0, 0, 5, 5, 5, 1, 1, 1, 3, 3, 2, 2, 2, 4, 4, 4, 3]\n",
    "#[0, 1, 2, 0, 1, 2, 0, 0, 0, 1, 1, 2, 2, 5, 5, 5, 3, 3, 4, 4]\n",
    "#[0, 1, 2, 4, 3, 4, 4, 3, 3, ]\n",
    "liste_transitions = [6338, 13822, 18325, 19621, 22352, 25196,\n",
    "                     31241, 38266, 41564, 43240, 44988, 59500,\n",
    "                     70102, 76913, 78990, 81108, 83134]\n",
    "#[6387, 12431, 26944, 34379, 41404, 52006,56510, 60244, 62989, 66288, 71378, 78189,84614, 85911, 88641, 91485, 93511, 95601, 97277] #98953\n",
    "#[6387, 12431, 26944, 38936, 45825, 47501, 49249, 51276, 53365, ]"
   ]
  },
  {
   "cell_type": "code",
   "execution_count": 24,
   "metadata": {},
   "outputs": [
    {
     "name": "stdout",
     "output_type": "stream",
     "text": [
      "Prediction sur le train, juste pour voir : \n"
     ]
    },
    {
     "data": {
      "image/png": "[encoded data removed]",
      "text/plain": [
       "<matplotlib.figure.Figure at 0x7f81e9af1f98>"
      ]
     },
     "metadata": {},
     "output_type": "display_data"
    }
   ],
   "source": [
    "train_features, labels_idee = create_train(train_name, window_length, recouvrement, n, liste_labels, liste_transitions)\n",
    "classifier1, classifier2, classifier3, pca, scaler = build_model(train_features, labels_idee)\n",
    "#classifier, pca, scaler = build_model(train_features, labels_idee)\n",
    "prediction_train = actually_predict(classifier1, classifier2, classifier3, train_features, pca, scaler)\n",
    "#prediction_train = actually_predict(classifier, train_features, pca, scaler)\n",
    "print('Prediction sur le train, juste pour voir : ')\n",
    "plt.figure()\n",
    "plt.plot(np.rint(prediction_train))\n",
    "plt.plot(labels_idee)\n",
    "plt.show()"
   ]
  },
  {
   "cell_type": "code",
   "execution_count": 25,
   "metadata": {},
   "outputs": [
    {
     "name": "stdout",
     "output_type": "stream",
     "text": [
      "Prediction sur le test : \n"
     ]
    },
    {
     "data": {
      "image/png": "[encoded data removed]",
      "text/plain": [
       "<matplotlib.figure.Figure at 0x7f81e9bf1c88>"
      ]
     },
     "metadata": {},
     "output_type": "display_data"
    },
    {
     "name": "stdout",
     "output_type": "stream",
     "text": [
      "Prediction sur le test : \n"
     ]
    },
    {
     "data": {
      "image/png": "[encoded data removed]",
      "text/plain": [
       "<matplotlib.figure.Figure at 0x7f81e9bf17b8>"
      ]
     },
     "metadata": {},
     "output_type": "display_data"
    },
    {
     "name": "stdout",
     "output_type": "stream",
     "text": [
      "Prediction sur le test : \n"
     ]
    },
    {
     "data": {
      "image/png": "[encoded data removed]",
      "text/plain": [
       "<matplotlib.figure.Figure at 0x7f81e48d30b8>"
      ]
     },
     "metadata": {},
     "output_type": "display_data"
    },
    {
     "name": "stdout",
     "output_type": "stream",
     "text": [
      "Prediction sur le test : \n"
     ]
    },
    {
     "data": {
      "image/png": "[encoded data removed]",
      "text/plain": [
       "<matplotlib.figure.Figure at 0x7f81eb056eb8>"
      ]
     },
     "metadata": {},
     "output_type": "display_data"
    },
    {
     "name": "stdout",
     "output_type": "stream",
     "text": [
      "Prediction sur le test : \n"
     ]
    },
    {
     "data": {
      "image/png": "[encoded data removed]",
      "text/plain": [
       "<matplotlib.figure.Figure at 0x7f81e9b7f5f8>"
      ]
     },
     "metadata": {},
     "output_type": "display_data"
    },
    {
     "name": "stdout",
     "output_type": "stream",
     "text": [
      "Prediction sur le test : \n"
     ]
    },
    {
     "data": {
      "image/png": "[encoded data removed]",
      "text/plain": [
       "<matplotlib.figure.Figure at 0x7f81e565f748>"
      ]
     },
     "metadata": {},
     "output_type": "display_data"
    },
    {
     "name": "stdout",
     "output_type": "stream",
     "text": [
      "Prediction sur le test : \n"
     ]
    },
    {
     "data": {
      "image/png": "[encoded data removed]",
      "text/plain": [
       "<matplotlib.figure.Figure at 0x7f81e9b932b0>"
      ]
     },
     "metadata": {},
     "output_type": "display_data"
    }
   ],
   "source": [
    "test_liste = ['test_situation_reelle_coupee.csv', 'assis_test.csv', 'debout_test.csv', 'marche_test.csv', 'descenterapide3.csv', 'monte_test.csv', 'courir_test.csv']\n",
    "for test_name in test_liste:\n",
    "    test_features = create_test(test_name, window_length, recouvrement, n)\n",
    "\n",
    "    print('Prediction sur le test : ')\n",
    "    prediction_test = actually_predict(classifier1, classifier2, classifier3, test_features, pca, scaler)\n",
    "    #prediction_test = actually_predict(classifier, test_features, pca, scaler)\n",
    "    plt.figure()\n",
    "    plt.plot(np.rint(prediction_test))\n",
    "    plt.show()"
   ]
  },
  {
   "cell_type": "markdown",
   "metadata": {
    "collapsed": true
   },
   "source": [
    "## Mise en forme des résultats"
   ]
  },
  {
   "cell_type": "code",
   "execution_count": 20,
   "metadata": {},
   "outputs": [
    {
     "name": "stdout",
     "output_type": "stream",
     "text": [
      "Prédiction :\n",
      "On est reste dans l`etat  5.0  pendant  25.200000000000017  secondes\n",
      "On est reste dans l`etat  3.0  pendant  0.6000000000000001  secondes\n"
     ]
    }
   ],
   "source": [
    "print('Prédiction :')\n",
    "prediction = prediction_test\n",
    "etat_courant = prediction[0]\n",
    "temps = 0.01 * window_length * (1 - recouvrement)\n",
    "for etat in prediction:\n",
    "    if etat == etat_courant:\n",
    "        temps = temps + 0.010 * window_length * (1 - recouvrement)\n",
    "    else:\n",
    "        print('On est reste dans l`etat ', etat_courant, ' pendant ', temps, ' secondes')\n",
    "        temps = 0.01 * window_length * (1 - recouvrement)\n",
    "        etat_courant = etat\n",
    "print('On est reste dans l`etat ', etat_courant, ' pendant ', temps, ' secondes')"
   ]
  },
  {
   "cell_type": "markdown",
   "metadata": {
    "collapsed": true
   },
   "source": [
    "## Algorithme de Viterbi"
   ]
  },
  {
   "cell_type": "markdown",
   "metadata": {},
   "source": [
    "On part d'un modèle ($ \\lambda $, A, B), il existe un moyen de faire de l'apprentissage avec des hmm mais là on devine les paramètres.\n",
    "\n",
    "$ \\lambda $ le prior, A les proba de passer d'un état à un autre, B les proba d'observer chaque observation (possible) en étant dans chaque état (array, une case par état). -> on peut avoir la densité de cette probabilité.\n",
    "\n",
    "Autres arguments : Y les observations fixées effectivement observées, nb d'observations, d'états.\n",
    "\n",
    "On crée deux tableaux :  celui des probabilités du chemin le plus probable jusqu'ici, en étant ici à tel état et celui des ' le dernier état du chemin le plus probable jusqu'ici ' ie le $ x_{j-1} $ le plus probable pour conduire au $ x_j = s_i $.\n",
    "\n",
    "Ces tableaux sont construits récursivement : \n",
    "\n",
    "max d'un produit de matrice, on tire la probabilité selon la loi choisie pour faire office du B de wikipedia.\n",
    "\n",
    "et l'etat qui atteint ce max.\n",
    "\n",
    "Pour trouver ce qui va dans la matrice B, on trouve une gaussian mixture pour chaque état à l'aide de points de train. \n",
    "Quand on a une nouvelle observation on trouve la probabilité d'avoir telle observation pour tel état grace à la fonction score_samples de la gmm"
   ]
  },
  {
   "cell_type": "code",
   "execution_count": 26,
   "metadata": {
    "collapsed": true
   },
   "outputs": [],
   "source": [
    "# On doit commencer par construire B\n",
    "\n",
    "nb_features = train_features.shape[1]\n",
    "liste_states = [0,1,2,3,4,5]\n",
    "n_gaussians = 3\n",
    "set_features_etats = []\n",
    "train_liste = ['assis_train.csv', 'debout_train.csv', 'marche_train.csv', 'descente_rapide_train.csv', 'monte.csv', 'courir_train.csv']\n",
    "for name in train_liste:\n",
    "    features = create_test(name, window_length, recouvrement, n) # test car on veut juste les features, pas de labels\n",
    "    set_features_etats.append(scaler.transform(features))\n",
    "    \n",
    "liste_gmm = []\n",
    "for k in liste_states:\n",
    "    gmm_tmp = GaussianMixture(n_components=n_gaussians, covariance_type='full')\n",
    "    gmm_tmp.fit(set_features_etats[k])\n",
    "    liste_gmm.append(gmm_tmp)\n"
   ]
  },
  {
   "cell_type": "code",
   "execution_count": 62,
   "metadata": {},
   "outputs": [
    {
     "name": "stdout",
     "output_type": "stream",
     "text": [
      "(36, 12)\n",
      "(99, 12)\n"
     ]
    },
    {
     "data": {
      "image/png": "[encoded data removed]",
      "text/plain": [
       "<matplotlib.figure.Figure at 0x7f81e9a6c710>"
      ]
     },
     "metadata": {},
     "output_type": "display_data"
    }
   ],
   "source": [
    "K = len(liste_states)\n",
    "prior = np.ones(K)\n",
    "prior = prior/np.sum(prior) # stochastique\n",
    "test_observation1 = 'descend3.csv'\n",
    "features_observation1 = create_test(test_observation1, window_length, recouvrement, n) \n",
    "print(features_observation1.shape)\n",
    "test_observation2 = 'debout_test.csv'\n",
    "features_observation2 = create_test(test_observation2, window_length, recouvrement, n)\n",
    "print(features_observation2.shape)\n",
    "features_observation = np.concatenate((scaler.transform(features_observation1), \n",
    "                                       scaler.transform(features_observation2), \n",
    "                                       scaler.transform(features_observation1)), axis=0)\n",
    "sh = features_observation.shape\n",
    "lg = sh[0]\n",
    "T = features_observation.shape[0]\n",
    "T1 = np.zeros((K, T))\n",
    "T2 = np.zeros((K, T))\n",
    "#A = np.array([[0.9, 0.1, 0, 0, 0, 0],\n",
    "#             [0.05, 0.75, 0.08, 0.03, 0.03, 0.06],\n",
    "#             [0.01, 0.05, 0.7, 0.02, 0.02, 0.2],\n",
    "#             [0, 0.13, 0.17, 0.6, 0, 0.1],\n",
    "#             [0.5, 0.13, 0.17, 0, 0.6, 0.1],\n",
    "#             [0, 0.1, 0.2, 0.05, 0.05, 0.6]])\n",
    "\n",
    "A = np.array([[3/6., 3/6., 0, 0, 0, 0],\n",
    "             [1/6., 1/6., 1/6., 1/6., 1/6., 1/6.],\n",
    "             [0, 0.1, 0.7, 0.05, 0.05, 0.1],\n",
    "             [0, 0.1, 0.3, 0.5, 0, 0.1],\n",
    "             [0.2, 0.2, 0.3, 0, 0.3, 0.1],\n",
    "             [0, 0.2, 0.5, 0.05, 0.05, 0.2]])\n",
    "\n",
    "#A = np.ones((6,6))/6.\n",
    "z = np.zeros(T)\n",
    "for i in liste_states:\n",
    "    tmp = np.log(prior[i]) + max(liste_gmm[i].score_samples(features_observation[0]), -100)\n",
    "    T1[i, 0] = tmp\n",
    "for i in range(1, T): \n",
    "    for j in range(K):\n",
    "        new_liste = [np.exp(T1[l, i - 1]) * A[l, j] for l in range(K)]\n",
    "        tmp = max(liste_gmm[j].score_samples(features_observation[i]), -100) + np.log(np.max(new_liste))\n",
    "        T1[j, i] = tmp\n",
    "        T2[j, i] = np.argmax(new_liste)\n",
    "    if np.sum(np.abs(T1[:, i])) > 200:\n",
    "        T1[:, i] = T1[:, i]/2.\n",
    "z[T - 1] = np.argmax(T1[:, T - 1])\n",
    "for i in range(T - 2, -1, -1):\n",
    "    z[i] = T2[int(z[i + 1]), i + 1]\n",
    "    \n",
    "#for i in range(1, T): \n",
    "#    print(T1[:, i])\n",
    "\n",
    "plt.figure()\n",
    "plt.plot(z)\n",
    "plt.show()\n",
    "#print(z)"
   ]
  },
  {
   "cell_type": "code",
   "execution_count": 61,
   "metadata": {},
   "outputs": [
    {
     "name": "stdout",
     "output_type": "stream",
     "text": [
      "[[  34.00357396  120.66169874   82.09600255 ...,   87.94986797\n",
      "   -24.43752665  -89.10653549]\n",
      " [ 248.94688058  -59.7117212    35.02377301 ...,  -95.7297694   -81.10893708\n",
      "    61.89421364]\n",
      " [ -31.19977395  -30.84950868  -31.85095144 ..., -209.29342224\n",
      "    35.98153752  159.10978693]\n",
      " ..., \n",
      " [ 112.30841309  117.78503683  -58.62238575 ...,  -29.16138923  -72.136061\n",
      "   129.93309347]\n",
      " [-169.47125193  -36.49066951  168.81954177 ...,  -48.85627596\n",
      "   179.70690904   -4.11397812]\n",
      " [ -59.3232227   -12.16331377    0.54159812 ...,  142.23209271\n",
      "  -118.03083118  -36.11578241]]\n"
     ]
    }
   ],
   "source": [
    "## On bruite les données pour tester la capacité de généralisation de Viterbi\n",
    "eps = 100\n",
    "N = normal(np.transpose(np.ones(lg)), eps * np.ones((lg, lg)))\n",
    "N = np.array(N)[:, :12]\n",
    "features_observation = features_observation + N\n",
    "print(features_observation)"
   ]
  },
  {
   "cell_type": "markdown",
   "metadata": {},
   "source": [
    "## Tests pour voir quels paramètre de GMM choisir  "
   ]
  },
  {
   "cell_type": "code",
   "execution_count": 11,
   "metadata": {},
   "outputs": [
    {
     "ename": "ValueError",
     "evalue": "operands could not be broadcast together with shapes (25,10) (25,16) ",
     "output_type": "error",
     "traceback": [
      "\u001b[0;31m---------------------------------------------------------------------------\u001b[0m",
      "\u001b[0;31mValueError\u001b[0m                                Traceback (most recent call last)",
      "\u001b[0;32m<ipython-input-11-a972a612a596>\u001b[0m in \u001b[0;36m<module>\u001b[0;34m()\u001b[0m\n\u001b[1;32m     26\u001b[0m \u001b[0mN\u001b[0m \u001b[0;34m=\u001b[0m \u001b[0mnormal\u001b[0m\u001b[0;34m(\u001b[0m\u001b[0mnp\u001b[0m\u001b[0;34m.\u001b[0m\u001b[0mtranspose\u001b[0m\u001b[0;34m(\u001b[0m\u001b[0mnp\u001b[0m\u001b[0;34m.\u001b[0m\u001b[0mzeros\u001b[0m\u001b[0;34m(\u001b[0m\u001b[0mlg\u001b[0m\u001b[0;34m)\u001b[0m\u001b[0;34m)\u001b[0m\u001b[0;34m,\u001b[0m \u001b[0meps\u001b[0m \u001b[0;34m*\u001b[0m \u001b[0;36m0\u001b[0m \u001b[0;34m*\u001b[0m \u001b[0mnp\u001b[0m\u001b[0;34m.\u001b[0m\u001b[0mones\u001b[0m\u001b[0;34m(\u001b[0m\u001b[0;34m(\u001b[0m\u001b[0mlg\u001b[0m\u001b[0;34m,\u001b[0m \u001b[0mlg\u001b[0m\u001b[0;34m)\u001b[0m\u001b[0;34m)\u001b[0m\u001b[0;34m)\u001b[0m\u001b[0;34m\u001b[0m\u001b[0m\n\u001b[1;32m     27\u001b[0m \u001b[0mN\u001b[0m \u001b[0;34m=\u001b[0m \u001b[0mnp\u001b[0m\u001b[0;34m.\u001b[0m\u001b[0marray\u001b[0m\u001b[0;34m(\u001b[0m\u001b[0mN\u001b[0m\u001b[0;34m)\u001b[0m\u001b[0;34m[\u001b[0m\u001b[0;34m:\u001b[0m\u001b[0;34m,\u001b[0m \u001b[0;34m:\u001b[0m\u001b[0;36m16\u001b[0m\u001b[0;34m]\u001b[0m\u001b[0;34m\u001b[0m\u001b[0m\n\u001b[0;32m---> 28\u001b[0;31m \u001b[0mfeatures_observation2\u001b[0m \u001b[0;34m=\u001b[0m \u001b[0mfeatures_observation2\u001b[0m \u001b[0;34m+\u001b[0m \u001b[0mN\u001b[0m\u001b[0;34m\u001b[0m\u001b[0m\n\u001b[0m\u001b[1;32m     29\u001b[0m \u001b[0;34m\u001b[0m\u001b[0m\n\u001b[1;32m     30\u001b[0m \u001b[0mL1\u001b[0m \u001b[0;34m=\u001b[0m \u001b[0mfeatures_observation1\u001b[0m\u001b[0;34m.\u001b[0m\u001b[0mshape\u001b[0m\u001b[0;34m[\u001b[0m\u001b[0;36m0\u001b[0m\u001b[0;34m]\u001b[0m\u001b[0;34m\u001b[0m\u001b[0m\n",
      "\u001b[0;31mValueError\u001b[0m: operands could not be broadcast together with shapes (25,10) (25,16) "
     ]
    }
   ],
   "source": [
    "nb_features = train_features.shape[1]\n",
    "liste_states = [0,1,2,3,4]\n",
    "n_gaussians = 3\n",
    "set_features_etats = []\n",
    "train_liste = ['assis.csv', 'debout.csv', 'marche.csv', 'monte.csv', 'descend.csv', 'courir.csv']\n",
    "for name in train_liste:\n",
    "    features = create_test(name, window_length, recouvrement, n) # test car on veut juste les features, pas de labels\n",
    "    set_features_etats.append(features)\n",
    "    \n",
    "liste_gmm = []\n",
    "for k in liste_states:\n",
    "    gmm_tmp = GaussianMixture(n_components=n_gaussians, covariance_type='full')\n",
    "    gmm_tmp.fit(set_features_etats[k])\n",
    "    liste_gmm.append(gmm_tmp)\n",
    "\n",
    "K = len(liste_states)\n",
    "prior = np.ones(K)\n",
    "prior = prior/np.sum(prior) # stochastique\n",
    "test_observation1 = 'monte.csv'\n",
    "features_observation1 = create_test(test_observation1, window_length, recouvrement, n) \n",
    "test_observation2 = 'descend.csv'\n",
    "features_observation2 = create_test(test_observation2, window_length, recouvrement, n)\n",
    "eps = 0\n",
    "sh = features_observation2.shape\n",
    "lg = sh[0]\n",
    "N = normal(np.transpose(np.zeros(lg)), eps * 0 * np.ones((lg, lg)))\n",
    "N = np.array(N)[:, :16]\n",
    "features_observation2 = features_observation2 + N\n",
    "\n",
    "L1 = features_observation1.shape[0]\n",
    "L2 = features_observation2.shape[0]\n",
    "listetestsurtrain = []\n",
    "listetestsurnouvellesdata=[]\n",
    "for i in range(1, L1): \n",
    "    listetestsurnouvellesdata.append(liste_gmm[3].score_samples(features_observation1[i]))\n",
    "for i in range(1, L2): \n",
    "    listetestsurtrain.append(liste_gmm[3].score_samples(features_observation2[i]))\n",
    "\n",
    "print(np.mean(listetestsurnouvellesdata))\n",
    "print(np.mean(listetestsurtrain))\n",
    "\n"
   ]
  },
  {
   "cell_type": "markdown",
   "metadata": {},
   "source": [
    "## Essai de Viterbi sur une distribution simple"
   ]
  },
  {
   "cell_type": "code",
   "execution_count": 12,
   "metadata": {
    "collapsed": true
   },
   "outputs": [],
   "source": [
    "def gaussian_pdf(mu, sigma, x):\n",
    "    return(1/(sigma * np.sqrt(2 * np.pi)) * np.exp( - (x - mu)**2 / (2 * sigma**2)))"
   ]
  },
  {
   "cell_type": "code",
   "execution_count": 13,
   "metadata": {
    "scrolled": false
   },
   "outputs": [
    {
     "data": {
      "image/png": "[encoded data removed]",
      "text/plain": [
       "<matplotlib.figure.Figure at 0x7f67f7a976a0>"
      ]
     },
     "metadata": {},
     "output_type": "display_data"
    }
   ],
   "source": [
    "N1 = normal(0.0, 0.1, 100)\n",
    "N2 = normal(1.0, 0.1, 100)\n",
    "N3 = normal(2.0, 0.1, 100)\n",
    "N4 = normal(3.0, 0.1, 100)\n",
    "N5 = normal(4.0, 0.1, 100)\n",
    "\n",
    "\n",
    "liste_states = [0, 1, 2, 3, 4]\n",
    "eps = - 1\n",
    "K = len(liste_states)\n",
    "prior = np.random.rand(K)\n",
    "prior = prior/np.sum(prior) # stochastique\n",
    "features_observation = np.concatenate((N1, N2, N3, N4, N5), axis=0)\n",
    "T = features_observation.shape[0]\n",
    "T1 = np.zeros((K, T))\n",
    "T2 = np.zeros((K, T))\n",
    "A = np.array([[0.9, 0.1, 0, 0, 0],\n",
    "             [0.03, 0.9, 0.05, 0.01, 0.01],\n",
    "             [0.005, 0.055, 0.9, 0.02, 0.02],\n",
    "             [0, 0.03, 0.07, 0.9, 0],\n",
    "             [0, 0.03, 0.07, 0, 0.9]])\n",
    "z = np.zeros(T)\n",
    "for i in liste_states:\n",
    "    tmp = np.log(gaussian_pdf(i, 0.1, features_observation[0]))\n",
    "    T1[i, 0] = prior[i] * np.exp(tmp)\n",
    "for i in range(1, T):\n",
    "    for j in range(K):\n",
    "        new_liste = [T1[l, i - 1] * A[l, j] for l in range(K)]\n",
    "        tmp = np.log(gaussian_pdf(j, 0.1, features_observation[i]))\n",
    "        T1[j, i] = np.exp(tmp) * np.max(new_liste)\n",
    "        T2[j, i] = np.argmax(new_liste)\n",
    "z[T - 1] = np.argmax(T1[:, T - 1])\n",
    "for i in range(T - 2, -1, -1):\n",
    "    z[i] = T2[int(z[i + 1]), i + 1]\n",
    "\n",
    "#for i in range(1, T): \n",
    "#        print(T1[:, i])\n",
    "\n",
    "plt.figure()\n",
    "plt.plot(z)\n",
    "plt.show()"
   ]
  },
  {
   "cell_type": "code",
   "execution_count": null,
   "metadata": {
    "collapsed": true
   },
   "outputs": [],
   "source": []
  }
 ],
 "metadata": {
  "kernelspec": {
   "display_name": "Python 3",
   "language": "python",
   "name": "python3"
  },
  "language_info": {
   "codemirror_mode": {
    "name": "ipython",
    "version": 3
   },
   "file_extension": ".py",
   "mimetype": "text/x-python",
   "name": "python",
   "nbconvert_exporter": "python",
   "pygments_lexer": "ipython3",
   "version": "3.5.2"
  }
 },
 "nbformat": 4,
 "nbformat_minor": 2
}
